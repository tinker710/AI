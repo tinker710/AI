{
 "cells": [
  {
   "cell_type": "markdown",
   "id": "emotional-national",
   "metadata": {},
   "source": [
    "# 1 线性回归的简洁实现\n",
    "### 通过使用深度学习框架来简洁实现 线性回归模型 生成数据集"
   ]
  },
  {
   "cell_type": "code",
   "execution_count": 3,
   "id": "advance-marble",
   "metadata": {},
   "outputs": [
    {
     "data": {
      "text/plain": [
       "[tensor([[ 0.5708, -0.1540],\n",
       "         [-1.6708, -0.6170],\n",
       "         [ 2.3110,  0.9674],\n",
       "         [ 0.9177, -0.0563],\n",
       "         [-1.0882, -0.5591],\n",
       "         [-2.3046,  0.0878],\n",
       "         [ 0.3679, -0.1550],\n",
       "         [ 0.4172, -0.2585],\n",
       "         [-0.2277,  1.2936],\n",
       "         [ 2.4066, -0.5731]]),\n",
       " tensor([[ 5.8567],\n",
       "         [ 2.9660],\n",
       "         [ 5.5310],\n",
       "         [ 6.2368],\n",
       "         [ 3.9377],\n",
       "         [-0.7102],\n",
       "         [ 5.4547],\n",
       "         [ 5.9062],\n",
       "         [-0.6689],\n",
       "         [10.9632]])]"
      ]
     },
     "execution_count": 3,
     "metadata": {},
     "output_type": "execute_result"
    }
   ],
   "source": [
    "import numpy as np\n",
    "import torch\n",
    "from torch.utils import data\n",
    "from d2l import torch as d2l\n",
    "\n",
    "true_w = torch.tensor([2, -3.4])\n",
    "true_b = 4.2\n",
    "features, labels = d2l.synthetic_data(true_w, true_b, 1000)\n",
    "\n",
    "def load_array(data_arrays, batch_size, is_train = True):\n",
    "    dataset = data.TensorDataset(*data_arrays)\n",
    "    return data.DataLoader(dataset, batch_size, shuffle = is_train)\n",
    "\n",
    "batch_size = 10\n",
    "data_iter = load_array((features, labels), batch_size)\n",
    "\n",
    "next(iter(data_iter))"
   ]
  },
  {
   "cell_type": "markdown",
   "id": "medieval-toddler",
   "metadata": {},
   "source": [
    "### 使用框架定义层"
   ]
  },
  {
   "cell_type": "code",
   "execution_count": 6,
   "id": "nervous-amplifier",
   "metadata": {},
   "outputs": [],
   "source": [
    "from torch import nn\n",
    "net = nn.Sequential(nn.Linear(2,1))"
   ]
  },
  {
   "cell_type": "markdown",
   "id": "material-muslim",
   "metadata": {},
   "source": [
    "### 初始化模型参数"
   ]
  },
  {
   "cell_type": "code",
   "execution_count": 8,
   "id": "subject-lending",
   "metadata": {},
   "outputs": [
    {
     "data": {
      "text/plain": [
       "tensor([0.])"
      ]
     },
     "execution_count": 8,
     "metadata": {},
     "output_type": "execute_result"
    }
   ],
   "source": [
    "net[0].weight.data.normal_(0,0.01)\n",
    "net[0].bias.data.fill_(0)"
   ]
  },
  {
   "cell_type": "markdown",
   "id": "religious-surgery",
   "metadata": {},
   "source": [
    "### 计算均方误差使用`MSELoss`类， 也称为平方L2范数"
   ]
  },
  {
   "cell_type": "code",
   "execution_count": 11,
   "id": "primary-feelings",
   "metadata": {},
   "outputs": [],
   "source": [
    "loss = nn.MSELoss()"
   ]
  },
  {
   "cell_type": "markdown",
   "id": "loving-touch",
   "metadata": {},
   "source": [
    "### 实例化`SGD`实例"
   ]
  },
  {
   "cell_type": "code",
   "execution_count": 12,
   "id": "precise-flour",
   "metadata": {},
   "outputs": [],
   "source": [
    "trainer = torch.optim.SGD(net.parameters(),lr = 0.03)"
   ]
  },
  {
   "cell_type": "code",
   "execution_count": 13,
   "id": "applicable-hardware",
   "metadata": {},
   "outputs": [
    {
     "name": "stdout",
     "output_type": "stream",
     "text": [
      "epoch 1, loss 0.000316\n",
      "epoch 2, loss 0.000103\n",
      "epoch 3, loss 0.000102\n"
     ]
    }
   ],
   "source": [
    "num_epochs = 3\n",
    "for epoch in range(num_epochs):\n",
    "    for x,y in data_iter:\n",
    "        l = loss(net(x),y)\n",
    "        trainer.zero_grad()\n",
    "        l.backward()\n",
    "        trainer.step()\n",
    "    l = loss(net(features), labels)\n",
    "    print(f'epoch {epoch + 1}, loss {l:f}')"
   ]
  },
  {
   "cell_type": "code",
   "execution_count": null,
   "id": "electronic-experiment",
   "metadata": {},
   "outputs": [],
   "source": []
  }
 ],
 "metadata": {
  "kernelspec": {
   "display_name": "Python 3",
   "language": "python",
   "name": "python3"
  },
  "language_info": {
   "codemirror_mode": {
    "name": "ipython",
    "version": 3
   },
   "file_extension": ".py",
   "mimetype": "text/x-python",
   "name": "python",
   "nbconvert_exporter": "python",
   "pygments_lexer": "ipython3",
   "version": "3.8.5"
  }
 },
 "nbformat": 4,
 "nbformat_minor": 5
}
