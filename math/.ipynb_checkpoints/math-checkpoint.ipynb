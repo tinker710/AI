{
 "cells": [
  {
   "cell_type": "markdown",
   "id": "3415b08a",
   "metadata": {},
   "source": [
    "# Calculus\n",
    "## 1. 函数\n",
    "\n",
    "## 2. 导数\n",
    "\n",
    "### 2.1 极限\n",
    "\n",
    "### 2.2 无穷大\n",
    "\n",
    "### 2.3 连续性与导数\n",
    "\n",
    "1. 连续性： 设函数y=f(x)在点X0的某邻域内有定义，如果当自变量的该变量$\\Delta X$趋近于零时，相应函数的改变量$\\Delta Y$也趋近于零，则称y=f(x)在点X0处连续。\n",
    "2. 导数：如果平均变化率的极限存在， $\\lim\\limits_{\\Delta X\\rightarrow0}\\frac{\\Delta y}{\\Delta x}= \\lim\\limits_{\\Delta X\\rightarrow0}\\frac{f(x_0+\\Delta x)-f(x_0)}{\\Delta x}$,则称此极限为函数y=f(x)在点x0处的导数，$f^{'}(x_0)$\n",
    "\n",
    "#### 求导\n",
    "\n"
   ]
  },
  {
   "cell_type": "markdown",
   "id": "1a938676",
   "metadata": {},
   "source": [
    "## 3. 偏导数\n",
    "\n",
    "\n",
    "## 4. 方向导数\n",
    "## 5. 梯度\n",
    "## 6. 其它"
   ]
  },
  {
   "cell_type": "markdown",
   "id": "76ca7589",
   "metadata": {},
   "source": [
    "# Linear algebra\n",
    "## "
   ]
  },
  {
   "cell_type": "code",
   "execution_count": null,
   "id": "1bb5ee55",
   "metadata": {},
   "outputs": [],
   "source": []
  },
  {
   "cell_type": "code",
   "execution_count": null,
   "id": "8c137154",
   "metadata": {},
   "outputs": [],
   "source": []
  }
 ],
 "metadata": {
  "kernelspec": {
   "display_name": "Python 3 (ipykernel)",
   "language": "python",
   "name": "python3"
  },
  "language_info": {
   "codemirror_mode": {
    "name": "ipython",
    "version": 3
   },
   "file_extension": ".py",
   "mimetype": "text/x-python",
   "name": "python",
   "nbconvert_exporter": "python",
   "pygments_lexer": "ipython3",
   "version": "3.9.15"
  }
 },
 "nbformat": 4,
 "nbformat_minor": 5
}
